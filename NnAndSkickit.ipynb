{
 "cells": [
  {
   "cell_type": "code",
   "execution_count": 1,
   "metadata": {
    "collapsed": true
   },
   "outputs": [],
   "source": [
    "import tensorflow as tf\n",
    "import sklearn"
   ]
  },
  {
   "cell_type": "code",
   "execution_count": 26,
   "metadata": {
    "collapsed": false
   },
   "outputs": [],
   "source": [
    "import csv\n",
    "import io\n",
    "import urllib3\n",
    "import os\n",
    "import pandas as pd\n",
    "import numpy as np\n",
    "import matplotlib.pyplot as plt\n",
    "from sklearn.cluster import KMeans\n",
    "from sklearn.decomposition import PCA\n",
    "from sklearn.model_selection import train_test_split\n",
    "from sklearn.cross_validation import KFold, cross_val_score\n",
    "from sklearn import linear_model, datasets\n",
    "from sklearn.metrics import confusion_matrix\n",
    "from sklearn.cross_validation import cross_val_score, cross_val_predict\n",
    "from sklearn import metrics"
   ]
  },
  {
   "cell_type": "code",
   "execution_count": 3,
   "metadata": {
    "collapsed": true
   },
   "outputs": [],
   "source": [
    "\n",
    "# Set seed for shuffling\n",
    "RANDOM_SEED = 42\n",
    "tf.set_random_seed(RANDOM_SEED)\n",
    "\n",
    "# To make this notebook's output stable across runs\n",
    "def reset_graph(seed=42):\n",
    "    tf.reset_default_graph()\n",
    "    tf.set_random_seed(seed)\n",
    "    np.random.seed(seed)"
   ]
  },
  {
   "cell_type": "markdown",
   "metadata": {},
   "source": [
    "# Clustering"
   ]
  },
  {
   "cell_type": "markdown",
   "metadata": {},
   "source": [
    "1)\tFRESH: annual spending (m.u.) on fresh products (Continuous); \n",
    "\n",
    "2)\tMILK: annual spending (m.u.) on milk products (Continuous); \n",
    "\n",
    "3)\tGROCERY: annual spending (m.u.)on grocery products (Continuous); \n",
    "\n",
    "4)\tFROZEN: annual spending (m.u.)on frozen products (Continuous) \n",
    "\n",
    "5)\tDETERGENTS_PAPER: annual spending (m.u.) on detergents and paper products (Continuous) \n",
    "\n",
    "6)\tDELICATESSEN: annual spending (m.u.)on and delicatessen products (Continuous); \n",
    "\n",
    "7)\tCHANNEL: customers' Channel - Horeca (Hotel/Restaurant/Cafe) or Retail channel (Nominal) \n",
    "\n",
    "8)\tREGION: customers' Region - Lisnon, Oporto or Other (Nominal) "
   ]
  },
  {
   "cell_type": "markdown",
   "metadata": {},
   "source": [
    "Task:\n",
    "The goal of this task is to do some k-means clustering with the continuous variables above and see if we can derive any unique findings about the Channel or Region columns of the dataset.\n",
    "\n",
    "Preprocessing:\n",
    "All we have to do is get the csv from the url and place it in an object."
   ]
  },
  {
   "cell_type": "code",
   "execution_count": 13,
   "metadata": {
    "collapsed": false
   },
   "outputs": [],
   "source": [
    "url = 'https://archive.ics.uci.edu/ml/machine-learning-databases/00292/Wholesale%20customers%20data.csv'\n",
    "data = pd.read_csv(url, header = 0)"
   ]
  },
  {
   "cell_type": "code",
   "execution_count": 11,
   "metadata": {
    "collapsed": false
   },
   "outputs": [],
   "source": [
    "#Variables for the features and target variables.\n",
    "CustomerData = np.split(data, [2], axis=1)[1]\n",
    "Targets = np.split(data, [2], axis=1)[0]\n",
    "Targets = np.split(Targets, [1], axis=1)"
   ]
  },
  {
   "cell_type": "code",
   "execution_count": 14,
   "metadata": {
    "collapsed": true
   },
   "outputs": [],
   "source": [
    "#Using PCA to make the data readable on the 2d plot as well as simplify the clustering process.\n",
    "pca = PCA(n_components=2)\n",
    "pca.fit(CustomerData)\n",
    "\n",
    "CustomersDataPCA = pca.transform(CustomerData)\n",
    "\n",
    "#I really didn't want to do this at first because I thought this may be unsupervised learning\n",
    "#But it is now classification so I need to make a training and test set.\n",
    "x_train_cluster, x_test_cluster, y_train_cluster, y_test_cluster = train_test_split(CustomersDataPCA, Targets[0], test_size=0.2)"
   ]
  },
  {
   "cell_type": "markdown",
   "metadata": {
    "collapsed": true
   },
   "source": [
    "## sklearn"
   ]
  },
  {
   "cell_type": "code",
   "execution_count": 22,
   "metadata": {
    "collapsed": false
   },
   "outputs": [],
   "source": [
    "# Instantiate\n",
    "clusterer = KMeans(n_clusters=3, max_iter=1000, n_init=20).fit(CustomersDataPCA, Targets[1])"
   ]
  },
  {
   "cell_type": "code",
   "execution_count": 23,
   "metadata": {
    "collapsed": false
   },
   "outputs": [],
   "source": [
    "preds = clusterer.predict(CustomersDataPCA)\n",
    "centers = clusterer.cluster_centers_"
   ]
  },
  {
   "cell_type": "code",
   "execution_count": null,
   "metadata": {
    "collapsed": false
   },
   "outputs": [],
   "source": []
  },
  {
   "cell_type": "code",
   "execution_count": 25,
   "metadata": {
    "collapsed": false
   },
   "outputs": [
    {
     "data": {
      "text/plain": [
       "array([[  0,   0,   0,   0],\n",
       "       [ 56,  11,  10,   0],\n",
       "       [ 35,   4,   8,   0],\n",
       "       [238,  45,  33,   0]], dtype=int64)"
      ]
     },
     "execution_count": 25,
     "metadata": {},
     "output_type": "execute_result"
    }
   ],
   "source": [
    "#I'll use a confusion matrix to score these two models\n",
    "confusion_matrix(Targets[1], preds)"
   ]
  },
  {
   "cell_type": "markdown",
   "metadata": {},
   "source": [
    "## TensorFlow"
   ]
  },
  {
   "cell_type": "code",
   "execution_count": 32,
   "metadata": {
    "collapsed": false
   },
   "outputs": [
    {
     "name": "stdout",
     "output_type": "stream",
     "text": [
      "WARNING:tensorflow:From C:\\Program Files\\Anaconda3\\lib\\site-packages\\tensorflow\\python\\util\\tf_should_use.py:175: initialize_all_variables (from tensorflow.python.ops.variables) is deprecated and will be removed after 2017-03-02.\n",
      "Instructions for updating:\n",
      "Use `tf.global_variables_initializer` instead.\n",
      "Found in 0.21 seconds 15 iterations\n",
      "Centroids:\n",
      "[[23978.86566553 -4445.56611772]\n",
      " [-1341.31124554 25261.39189714]\n",
      " [-4165.1217824  -3105.15811456]]\n",
      "Cluster assignments: [2 2 2 2 0 2 2 2 2 1 2 2 0 2 0 2 2 2 2 2 2 2 0 1 0 2 2 2 1 0 2 2 2 0 2 2 0\n",
      " 2 1 0 0 2 2 1 2 1 1 1 2 1 2 2 0 2 0 2 1 2 2 2 2 1 2 1 2 1 2 2 2 2 2 2 2 2\n",
      " 2 2 2 1 2 2 2 2 2 2 2 1 1 0 2 0 2 2 1 2 2 2 2 2 2 2 2 2 2 0 2 2 2 2 2 1 2\n",
      " 1 2 2 2 2 2 2 2 2 2 2 2 2 0 0 2 2 2 0 2 2 2 2 2 2 2 2 2 2 2 0 0 2 2 1 2 2\n",
      " 2 0 2 2 2 2 2 1 2 2 2 2 2 2 2 1 2 1 2 2 2 2 2 1 2 1 2 2 0 2 2 2 2 0 2 0 2\n",
      " 2 2 2 2 2 2 2 2 2 2 2 0 2 2 2 1 1 0 2 2 1 2 2 2 1 2 1 2 2 2 2 1 2 2 2 2 2\n",
      " 2 2 2 2 2 2 2 2 2 2 0 2 2 2 2 2 2 0 0 0 2 2 2 2 2 2 2 2 2 1 2 0 2 0 2 2 0\n",
      " 0 2 2 0 2 2 1 1 2 1 2 2 2 2 0 2 2 0 2 2 2 2 2 0 0 0 0 2 2 2 0 2 2 2 2 2 2\n",
      " 2 2 2 2 2 1 2 2 1 2 1 2 2 1 2 0 1 2 2 2 2 2 2 1 2 2 2 2 0 0 2 2 2 2 2 1 2\n",
      " 1 2 0 2 2 2 2 2 2 2 1 2 2 2 0 2 1 2 1 2 1 2 2 2 2 2 2 2 2 2 2 2 2 2 2 2 2\n",
      " 0 2 2 2 2 2 2 0 2 2 0 2 0 2 1 2 2 2 2 2 2 2 2 0 2 2 2 2 2 2 2 0 0 0 2 2 0\n",
      " 1 2 2 2 2 2 2 2 2 2 2 1 2 2 2 0 2 2 2 2 0 2 2 2 2 2 2 2 0 0 1 2 2]\n"
     ]
    },
    {
     "data": {
      "text/plain": [
       "array([[  0,   0,   0,   0],\n",
       "       [ 11,  10,  56,   0],\n",
       "       [  4,   8,  35,   0],\n",
       "       [ 45,  33, 238,   0]], dtype=int64)"
      ]
     },
     "execution_count": 32,
     "metadata": {},
     "output_type": "execute_result"
    }
   ],
   "source": [
    "N=CustomersDataPCA.shape[0]\n",
    "K=3\n",
    "MAX_ITERS = 1000\n",
    "import time\n",
    "\n",
    "start = time.time()\n",
    "\n",
    "points = tf.Variable(CustomersDataPCA)\n",
    "cluster_assignments = tf.Variable(tf.zeros([N], dtype=tf.int64))\n",
    "\n",
    "# Silly initialization:  Use the first K points as the starting\n",
    "# centroids.  In the real world, do this better.\n",
    "centroids = tf.Variable(tf.slice(points.initialized_value(), [0,0], [K,2]))\n",
    "\n",
    "# Replicate to N copies of each centroid and K copies of each\n",
    "# point, then subtract and compute the sum of squared distances.\n",
    "rep_centroids = tf.reshape(tf.tile(centroids, [N, 1]), [N, K, 2])\n",
    "rep_points = tf.reshape(tf.tile(points, [1, K]), [N, K, 2])\n",
    "sum_squares = tf.reduce_sum(tf.square(rep_points - rep_centroids), \n",
    "                            reduction_indices=2)\n",
    "\n",
    "# Use argmin to select the lowest-distance point\n",
    "best_centroids = tf.argmin(sum_squares, 1)\n",
    "did_assignments_change = tf.reduce_any(tf.not_equal(best_centroids, \n",
    "                                                    cluster_assignments))\n",
    "\n",
    "def bucket_mean(data, bucket_ids, num_buckets):\n",
    "    total = tf.unsorted_segment_sum(data, bucket_ids, num_buckets)\n",
    "    count = tf.unsorted_segment_sum(tf.ones_like(data), bucket_ids, num_buckets)\n",
    "    return total / count\n",
    "\n",
    "means = bucket_mean(points, best_centroids, K)\n",
    "\n",
    "# Do not write to the assigned clusters variable until after\n",
    "# computing whether the assignments have changed - hence with_dependencies\n",
    "with tf.control_dependencies([did_assignments_change]):\n",
    "    do_updates = tf.group(\n",
    "        centroids.assign(means),\n",
    "        cluster_assignments.assign(best_centroids))\n",
    "\n",
    "init = tf.initialize_all_variables()\n",
    "\n",
    "sess = tf.Session()\n",
    "sess.run(init)\n",
    "\n",
    "changed = True\n",
    "iters = 0\n",
    "\n",
    "while changed and iters < MAX_ITERS:\n",
    "    iters += 1\n",
    "    [changed, _] = sess.run([did_assignments_change, do_updates])\n",
    "\n",
    "[centers, assignments] = sess.run([centroids, cluster_assignments])\n",
    "end = time.time()\n",
    "print ((\"Found in %.2f seconds\" % (end-start)), iters, \"iterations\")\n",
    "print (\"Centroids:\")\n",
    "print (centers)\n",
    "print (\"Cluster assignments:\", assignments)\n",
    "confusion_matrix(Targets[1], assignments)"
   ]
  },
  {
   "cell_type": "markdown",
   "metadata": {},
   "source": [
    "# Linear Regression"
   ]
  },
  {
   "cell_type": "markdown",
   "metadata": {},
   "source": [
    "The dataset contains eight attributes (or features, denoted by X1...X8) and two responses (or outcomes, denoted by y1 and y2). The aim is to use the eight features to predict each of the two responses. \n",
    "\n",
    "Specifically: \n",
    "X1\tRelative Compactness \n",
    "X2\tSurface Area \n",
    "X3\tWall Area \n",
    "X4\tRoof Area \n",
    "X5\tOverall Height \n",
    "X6\tOrientation \n",
    "X7\tGlazing Area \n",
    "X8\tGlazing Area Distribution \n",
    "y1\tHeating Load \n",
    "y2\tCooling Load\n",
    "\n",
    "Like clustering we bring in the data and separate it into train and test sets"
   ]
  },
  {
   "cell_type": "code",
   "execution_count": 41,
   "metadata": {
    "collapsed": false
   },
   "outputs": [],
   "source": [
    "enurl = 'https://archive.ics.uci.edu/ml/machine-learning-databases/00242/ENB2012_data.xlsx'\n",
    "endata = pd.read_excel(enurl, header = 0,sheet_name=0).values"
   ]
  },
  {
   "cell_type": "code",
   "execution_count": 42,
   "metadata": {
    "collapsed": false
   },
   "outputs": [],
   "source": [
    "energyParameters = endata[:, 0:8]\n",
    "energyTarget = endata[:, 8:10]\n",
    "\n",
    "x_train_energy, x_test_energy, y_train_energy, y_test_energy = train_test_split(energyParameters, energyTarget, test_size=0.2)"
   ]
  },
  {
   "cell_type": "markdown",
   "metadata": {
    "collapsed": true
   },
   "source": [
    "## sklearn"
   ]
  },
  {
   "cell_type": "code",
   "execution_count": 74,
   "metadata": {
    "collapsed": false
   },
   "outputs": [
    {
     "name": "stdout",
     "output_type": "stream",
     "text": [
      "Heating Load: [  7.63542373  33.88542373  36.88542373  25.63542373  32.13542373\n",
      "  13.38542373  27.13542373  29.38542373  33.88542373  17.63542373\n",
      "  16.13542373  15.13542373  16.13542373  27.88542373  12.88542373\n",
      "  32.88542373   8.13542373  14.51042373  31.13542373  15.13542373\n",
      "  11.88542373  28.63542373  15.13542373  29.13542373  32.63542373\n",
      "  29.63542373  13.38542373  33.63542373  16.38542373  29.88542373\n",
      "  16.63542373  31.63542373  15.13542373  16.13542373  37.13542373\n",
      "  14.38542373  17.88542373  24.38542373  35.63542373  13.38542373\n",
      "  15.88542373  12.13542373  10.63542373  15.38542373  26.88542373\n",
      "  22.38542373  29.13542373  14.88542373  29.13542373  36.88542373\n",
      "  24.88542373   8.38542373   5.51042373  25.38542373  26.13542373\n",
      "  18.13542373  15.88542373  29.13542373  12.13542373  17.88542373\n",
      "  11.38542373  12.88542373  24.38542373  32.13542373  29.13542373\n",
      "  17.63542373  29.13542373  24.63542373  10.76042373  22.38542373\n",
      "  37.38542373  27.88542373  14.38542373  25.38542373  29.63542373\n",
      "  29.88542373  33.63542373  26.88542373  25.63542373  10.63542373\n",
      "  30.13542373  35.38542373  30.88542373   8.26042373  27.88542373\n",
      "  32.13542373  14.26042373  26.63542373  39.88542373  35.38542373\n",
      "  17.88542373  27.63542373  14.01042373  32.13542373  11.01042373\n",
      "  26.63542373  18.13542373  32.63542373  24.88542373  12.88542373\n",
      "  29.63542373   7.63542373  13.13542373  13.13542373  13.13542373\n",
      "  16.63542373  15.13542373  19.13542373  15.88542373  11.88542373\n",
      "  15.63542373  12.63542373  16.13542373  29.38542373  15.88542373\n",
      "  28.63542373  40.13542373  11.63542373  33.63542373  31.63542373\n",
      "  28.63542373  11.88542373   7.76042373  25.88542373  11.63542373\n",
      "  15.88542373  14.88542373  25.63542373  30.13542373   9.63542373\n",
      "  35.13542373  18.13542373  15.13542373  31.63542373  34.38542373\n",
      "  28.88542373  27.63542373  12.88542373  18.13542373  14.63542373\n",
      "  30.88542373  31.13542373  10.63542373  33.88542373  39.88542373\n",
      "  17.88542373   7.88542373  14.88542373  13.38542373  30.63542373\n",
      "  29.38542373  13.38542373  31.63542373  28.13542373]\n"
     ]
    }
   ],
   "source": [
    "linRegr = linear_model.LinearRegression()\n",
    "linRegr.fit(x_train_energy, y_train_energy[:, 0])\n",
    "print(\"Heating Load:\", linRegr.predict(x_test_energy))"
   ]
  },
  {
   "cell_type": "code",
   "execution_count": 78,
   "metadata": {
    "collapsed": false
   },
   "outputs": [
    {
     "name": "stdout",
     "output_type": "stream",
     "text": [
      "Coefficients: [ -6.93420455e+01   4.56780295e+12  -4.56780295e+12  -9.13560589e+12\n",
      "   3.71577454e+00  -1.90298557e-02   2.01898388e+01   1.52906656e-01]\n",
      "Residual sum of squares: 11.53\n",
      "Variance score: 0.89\n"
     ]
    }
   ],
   "source": [
    "# The coefficients\n",
    "print('Coefficients:', linRegr.coef_)\n",
    "# The mean square error\n",
    "print(\"Residual sum of squares: %.2f\"\n",
    "      % np.mean((linRegr.predict(x_test_energy) - y_test_energy[:,0]) ** 2))\n",
    "# Explained variance score: 1 is perfect prediction\n",
    "print('Variance score: %.2f' % linRegr.score(x_test_energy, y_test_energy[:,0]))"
   ]
  },
  {
   "cell_type": "code",
   "execution_count": 79,
   "metadata": {
    "collapsed": false
   },
   "outputs": [
    {
     "name": "stdout",
     "output_type": "stream",
     "text": [
      "Cooling Load: [ 11.77498165  34.77498165  37.27498165  29.02498165  33.77498165\n",
      "  15.77498165  29.27498165  31.52498165  35.27498165  19.02498165\n",
      "  17.02498165  16.52498165  17.52498165  30.27498165  15.77498165\n",
      "  33.77498165  11.52498165  16.02498165  32.52498165  17.02498165\n",
      "  14.52498165  31.02498165  16.77498165  31.02498165  34.02498165\n",
      "  31.52498165  15.27498165  35.02498165  17.52498165  31.52498165\n",
      "  17.77498165  33.27498165  17.02498165  17.77498165  37.27498165\n",
      "  16.02498165  19.52498165  28.02498165  36.27498165  15.77498165\n",
      "  16.77498165  14.77498165  14.27498165  17.27498165  29.52498165\n",
      "  24.52498165  31.77498165  17.02498165  31.52498165  37.27498165\n",
      "  26.02498165  11.52498165  10.27498165  28.77498165  29.02498165\n",
      "  19.27498165  17.02498165  31.77498165  15.02498165  19.27498165\n",
      "  13.77498165  15.77498165  28.02498165  33.77498165  31.52498165\n",
      "  19.02498165  31.02498165  26.27498165  13.77498165  24.77498165\n",
      "  37.27498165  30.27498165  16.27498165  28.77498165  31.52498165\n",
      "  31.77498165  34.77498165  30.27498165  28.77498165  14.27498165\n",
      "  31.77498165  36.02498165  32.77498165  11.77498165  28.52498165\n",
      "  34.02498165  16.27498165  29.27498165  39.77498165  36.27498165\n",
      "  19.02498165  30.52498165  16.02498165  34.02498165  14.02498165\n",
      "  29.52498165  18.77498165  34.02498165  26.27498165  15.77498165\n",
      "  31.52498165  11.77498165  15.77498165  15.27498165  15.77498165\n",
      "  17.52498165  17.02498165  20.27498165  17.02498165  15.02498165\n",
      "  17.02498165  14.52498165  17.02498165  31.52498165  16.77498165\n",
      "  31.27498165  39.77498165  14.27498165  34.77498165  33.77498165\n",
      "  31.02498165  14.27498165  11.52498165  29.02498165  14.27498165\n",
      "  17.77498165  16.77498165  28.77498165  31.52498165  12.27498165\n",
      "  36.27498165  19.52498165  17.27498165  33.52498165  35.27498165\n",
      "  31.27498165  28.27498165  14.52498165  19.52498165  16.77498165\n",
      "  32.52498165  30.52498165  14.27498165  35.27498165  39.77498165\n",
      "  19.02498165  11.77498165  17.27498165  15.27498165  30.77498165\n",
      "  31.77498165  15.27498165  33.27498165  28.27498165]\n"
     ]
    }
   ],
   "source": [
    "linRegr = linear_model.LinearRegression()\n",
    "linRegr.fit(x_train_energy, y_train_energy[:, 1])\n",
    "print(\"Cooling Load:\", linRegr.predict(x_test_energy))"
   ]
  },
  {
   "cell_type": "code",
   "execution_count": 80,
   "metadata": {
    "collapsed": false
   },
   "outputs": [
    {
     "name": "stdout",
     "output_type": "stream",
     "text": [
      "Coefficients: [ -7.53976859e+01   6.36358826e+12  -6.36358826e+12  -1.27271765e+13\n",
      "   3.88533783e+00   1.00033641e-01   1.47861523e+01   7.20119476e-03]\n",
      "Residual sum of squares: 14.81\n",
      "Variance score: 0.85\n"
     ]
    }
   ],
   "source": [
    "# The coefficients\n",
    "print('Coefficients:', linRegr.coef_)\n",
    "# The mean square error\n",
    "print(\"Residual sum of squares: %.2f\"\n",
    "      % np.mean((linRegr.predict(x_test_energy) - y_test_energy[:,0]) ** 2))\n",
    "# Explained variance score: 1 is perfect prediction\n",
    "print('Variance score: %.2f' % linRegr.score(x_test_energy, y_test_energy[:,0]))"
   ]
  },
  {
   "cell_type": "markdown",
   "metadata": {},
   "source": [
    "## TensorFlow"
   ]
  },
  {
   "cell_type": "markdown",
   "metadata": {},
   "source": [
    "I tried so many different ways to do this but they all failed. I will stick to how the book does it here but leave the rest below for my own reference. Plus, I don't want to look like I just took the book answer. Took me hours to get here."
   ]
  },
  {
   "cell_type": "code",
   "execution_count": 44,
   "metadata": {
    "collapsed": true
   },
   "outputs": [],
   "source": [
    "#We need to use a scalar with bias in the DS to use gradient descent optimizer. This code was mainly from the book\n",
    "from sklearn.preprocessing import StandardScaler\n",
    "m, n = energyParameters.shape\n",
    "scaler = StandardScaler()\n",
    "scaled_energy_data = scaler.fit_transform(energyParameters)\n",
    "scaled_energy_data_plus_bias = np.c_[np.ones((m, 1)), scaled_energy_data]"
   ]
  },
  {
   "cell_type": "code",
   "execution_count": 45,
   "metadata": {
    "collapsed": false
   },
   "outputs": [],
   "source": [
    "n_epochs = 1000\n",
    "learning_rate = 0.01\n",
    "\n",
    "X = tf.constant(scaled_energy_data_plus_bias, dtype=tf.float32, name=\"X\")\n",
    "y = tf.constant(energyTarget[:,0:1].reshape(-1, 1), dtype=tf.float32, name=\"y\")\n",
    "theta = tf.Variable(tf.random_uniform([n + 1, 1], -1.0, 1.0, seed=42), name=\"theta\")\n",
    "y_pred = tf.matmul(X, theta, name=\"predictions\")\n",
    "error = y_pred - y\n",
    "mse = tf.reduce_mean(tf.square(error), name=\"mse\")"
   ]
  },
  {
   "cell_type": "code",
   "execution_count": 46,
   "metadata": {
    "collapsed": true
   },
   "outputs": [],
   "source": [
    "#Decided to go with an optimizer for fun.\n",
    "optimizer = tf.train.GradientDescentOptimizer(learning_rate=learning_rate)\n",
    "training_op = optimizer.minimize(mse)"
   ]
  },
  {
   "cell_type": "code",
   "execution_count": 47,
   "metadata": {
    "collapsed": false
   },
   "outputs": [
    {
     "name": "stdout",
     "output_type": "stream",
     "text": [
      "Epoch 0 MSE = 616.17834\n",
      "Epoch 100 MSE = 19.7918\n",
      "Epoch 200 MSE = 10.404517\n",
      "Epoch 300 MSE = 9.947573\n",
      "Epoch 400 MSE = 9.703575\n",
      "Epoch 500 MSE = 9.507805\n",
      "Epoch 600 MSE = 9.348815\n",
      "Epoch 700 MSE = 9.219578\n",
      "Epoch 800 MSE = 9.114436\n",
      "Epoch 900 MSE = 9.028812\n",
      "Best theta:\n",
      "[[22.30715   ]\n",
      " [-1.7665867 ]\n",
      " [-1.3256218 ]\n",
      " [ 2.0819826 ]\n",
      " [-1.4799418 ]\n",
      " [ 7.1799374 ]\n",
      " [-0.02608395]\n",
      " [ 2.6537151 ]\n",
      " [ 0.31584576]]\n"
     ]
    }
   ],
   "source": [
    "#Run the graph constructed above. the MSE gets to around 9. This is a better score than the sklearn model above by 2 points.\n",
    "#Note that this one is for the heating score. Also note that there is no activation function and mse is computed each epoch.\n",
    "init = tf.global_variables_initializer()\n",
    "\n",
    "with tf.Session() as sess:\n",
    "    sess.run(init)\n",
    "\n",
    "    for epoch in range(n_epochs):\n",
    "        if epoch % 100 == 0:\n",
    "            print(\"Epoch\", epoch, \"MSE =\", mse.eval())\n",
    "        sess.run(training_op)\n",
    "    \n",
    "    best_theta = theta.eval()\n",
    "\n",
    "print(\"Best theta:\")\n",
    "print(best_theta)"
   ]
  },
  {
   "cell_type": "code",
   "execution_count": 48,
   "metadata": {
    "collapsed": false
   },
   "outputs": [
    {
     "name": "stdout",
     "output_type": "stream",
     "text": [
      "Epoch 0 MSE = 616.17834\n",
      "Epoch 100 MSE = 19.7918\n",
      "Epoch 200 MSE = 10.404517\n",
      "Epoch 300 MSE = 9.947573\n",
      "Epoch 400 MSE = 9.703575\n",
      "Epoch 500 MSE = 9.507805\n",
      "Epoch 600 MSE = 9.348815\n",
      "Epoch 700 MSE = 9.219578\n",
      "Epoch 800 MSE = 9.114436\n",
      "Epoch 900 MSE = 9.028812\n",
      "Best theta:\n",
      "[[22.30715   ]\n",
      " [-1.7665867 ]\n",
      " [-1.3256218 ]\n",
      " [ 2.0819826 ]\n",
      " [-1.4799418 ]\n",
      " [ 7.1799374 ]\n",
      " [-0.02608395]\n",
      " [ 2.6537151 ]\n",
      " [ 0.31584576]]\n"
     ]
    }
   ],
   "source": [
    "#Now lets do it for cooling score. Pretty much same score here as the heating score. Cool. Both beat sklearn.\n",
    "\n",
    "y = tf.constant(energyTarget[:,1:2].reshape(-1, 1), dtype=tf.float32, name=\"y\")\n",
    "error = y_pred - y\n",
    "\n",
    "with tf.Session() as sess:\n",
    "    sess.run(init)\n",
    "\n",
    "    for epoch in range(n_epochs):\n",
    "        if epoch % 100 == 0:\n",
    "            print(\"Epoch\", epoch, \"MSE =\", mse.eval())\n",
    "        sess.run(training_op)\n",
    "    \n",
    "    best_theta = theta.eval()\n",
    "\n",
    "print(\"Best theta:\")\n",
    "print(best_theta)"
   ]
  },
  {
   "cell_type": "markdown",
   "metadata": {},
   "source": [
    "Here is the failed code. No need to look down any further unless you want to see attempts."
   ]
  },
  {
   "cell_type": "code",
   "execution_count": 114,
   "metadata": {
    "collapsed": true
   },
   "outputs": [],
   "source": [
    "tryx = x_train_energy[:,0:8]\n",
    "tryy = y_train_energy[:,0:1]"
   ]
  },
  {
   "cell_type": "code",
   "execution_count": 106,
   "metadata": {
    "collapsed": true
   },
   "outputs": [],
   "source": [
    "# Parameters\n",
    "learning_rate = 0.01\n",
    "training_epochs = 100\n",
    "display_step = 50\n",
    "n_samples = x_train_energy.shape[0]\n",
    "cost_history = np.empty(shape=[1],dtype=float)"
   ]
  },
  {
   "cell_type": "code",
   "execution_count": 116,
   "metadata": {
    "collapsed": false
   },
   "outputs": [],
   "source": [
    "# tf Graph Input\n",
    "X = tf.placeholder(tf.float32, shape=(None, 8), name=\"X\")\n",
    "Y = tf.placeholder(tf.int64, shape=(None), name=\"Y\")\n",
    "\n",
    "# Set model weights\n",
    "W = tf.Variable(np.random.randn(), name=\"weight\")\n",
    "b = tf.Variable(np.random.randn(), name=\"bias\")"
   ]
  },
  {
   "cell_type": "code",
   "execution_count": 109,
   "metadata": {
    "collapsed": false
   },
   "outputs": [],
   "source": [
    "# Construct a linear model\n",
    "pred = tf.add(tf.multiply(X, W), b)\n",
    "\n",
    "# Mean squared error\n",
    "cost = tf.reduce_sum(tf.pow(pred-Y, 2))/(2*n_samples)\n",
    "# Gradient descent\n",
    "#  Note, minimize() knows to modify W and b because Variable objects are trainable=True by default\n",
    "optimizer = tf.train.GradientDescentOptimizer(learning_rate).minimize(cost)\n",
    "\n",
    "# Initialize the variables (i.e. assign their default value)\n",
    "init = tf.global_variables_initializer()"
   ]
  },
  {
   "cell_type": "code",
   "execution_count": 117,
   "metadata": {
    "collapsed": false
   },
   "outputs": [
    {
     "ename": "ValueError",
     "evalue": "Cannot feed value of shape (8,) for Tensor 'X_8:0', which has shape '(?, 8)'",
     "output_type": "error",
     "traceback": [
      "\u001b[0;31m---------------------------------------------------------------------------\u001b[0m",
      "\u001b[0;31mValueError\u001b[0m                                Traceback (most recent call last)",
      "\u001b[0;32m<ipython-input-117-d48084da3db4>\u001b[0m in \u001b[0;36m<module>\u001b[0;34m()\u001b[0m\n\u001b[1;32m      8\u001b[0m     \u001b[1;32mfor\u001b[0m \u001b[0mepoch\u001b[0m \u001b[1;32min\u001b[0m \u001b[0mrange\u001b[0m\u001b[1;33m(\u001b[0m\u001b[0mtraining_epochs\u001b[0m\u001b[1;33m)\u001b[0m\u001b[1;33m:\u001b[0m\u001b[1;33m\u001b[0m\u001b[0m\n\u001b[1;32m      9\u001b[0m         \u001b[1;32mfor\u001b[0m \u001b[1;33m(\u001b[0m\u001b[0mx\u001b[0m\u001b[1;33m,\u001b[0m \u001b[0my\u001b[0m\u001b[1;33m)\u001b[0m \u001b[1;32min\u001b[0m \u001b[0mzip\u001b[0m\u001b[1;33m(\u001b[0m\u001b[0mtryx\u001b[0m\u001b[1;33m,\u001b[0m \u001b[0mtryy\u001b[0m\u001b[1;33m)\u001b[0m\u001b[1;33m:\u001b[0m\u001b[1;33m\u001b[0m\u001b[0m\n\u001b[0;32m---> 10\u001b[0;31m             \u001b[0msess\u001b[0m\u001b[1;33m.\u001b[0m\u001b[0mrun\u001b[0m\u001b[1;33m(\u001b[0m\u001b[0moptimizer\u001b[0m\u001b[1;33m,\u001b[0m \u001b[0mfeed_dict\u001b[0m\u001b[1;33m=\u001b[0m\u001b[1;33m{\u001b[0m\u001b[0mX\u001b[0m\u001b[1;33m:\u001b[0m \u001b[0mx\u001b[0m\u001b[1;33m,\u001b[0m \u001b[0mY\u001b[0m\u001b[1;33m:\u001b[0m \u001b[0my\u001b[0m\u001b[1;33m}\u001b[0m\u001b[1;33m)\u001b[0m\u001b[1;33m\u001b[0m\u001b[0m\n\u001b[0m\u001b[1;32m     11\u001b[0m \u001b[1;33m\u001b[0m\u001b[0m\n\u001b[1;32m     12\u001b[0m         \u001b[1;31m# Display logs per epoch step\u001b[0m\u001b[1;33m\u001b[0m\u001b[1;33m\u001b[0m\u001b[0m\n",
      "\u001b[0;32mC:\\Program Files\\Anaconda3\\lib\\site-packages\\tensorflow\\python\\client\\session.py\u001b[0m in \u001b[0;36mrun\u001b[0;34m(self, fetches, feed_dict, options, run_metadata)\u001b[0m\n\u001b[1;32m    893\u001b[0m     \u001b[1;32mtry\u001b[0m\u001b[1;33m:\u001b[0m\u001b[1;33m\u001b[0m\u001b[0m\n\u001b[1;32m    894\u001b[0m       result = self._run(None, fetches, feed_dict, options_ptr,\n\u001b[0;32m--> 895\u001b[0;31m                          run_metadata_ptr)\n\u001b[0m\u001b[1;32m    896\u001b[0m       \u001b[1;32mif\u001b[0m \u001b[0mrun_metadata\u001b[0m\u001b[1;33m:\u001b[0m\u001b[1;33m\u001b[0m\u001b[0m\n\u001b[1;32m    897\u001b[0m         \u001b[0mproto_data\u001b[0m \u001b[1;33m=\u001b[0m \u001b[0mtf_session\u001b[0m\u001b[1;33m.\u001b[0m\u001b[0mTF_GetBuffer\u001b[0m\u001b[1;33m(\u001b[0m\u001b[0mrun_metadata_ptr\u001b[0m\u001b[1;33m)\u001b[0m\u001b[1;33m\u001b[0m\u001b[0m\n",
      "\u001b[0;32mC:\\Program Files\\Anaconda3\\lib\\site-packages\\tensorflow\\python\\client\\session.py\u001b[0m in \u001b[0;36m_run\u001b[0;34m(self, handle, fetches, feed_dict, options, run_metadata)\u001b[0m\n\u001b[1;32m   1098\u001b[0m                 \u001b[1;34m'Cannot feed value of shape %r for Tensor %r, '\u001b[0m\u001b[1;33m\u001b[0m\u001b[0m\n\u001b[1;32m   1099\u001b[0m                 \u001b[1;34m'which has shape %r'\u001b[0m\u001b[1;33m\u001b[0m\u001b[0m\n\u001b[0;32m-> 1100\u001b[0;31m                 % (np_val.shape, subfeed_t.name, str(subfeed_t.get_shape())))\n\u001b[0m\u001b[1;32m   1101\u001b[0m           \u001b[1;32mif\u001b[0m \u001b[1;32mnot\u001b[0m \u001b[0mself\u001b[0m\u001b[1;33m.\u001b[0m\u001b[0mgraph\u001b[0m\u001b[1;33m.\u001b[0m\u001b[0mis_feedable\u001b[0m\u001b[1;33m(\u001b[0m\u001b[0msubfeed_t\u001b[0m\u001b[1;33m)\u001b[0m\u001b[1;33m:\u001b[0m\u001b[1;33m\u001b[0m\u001b[0m\n\u001b[1;32m   1102\u001b[0m             \u001b[1;32mraise\u001b[0m \u001b[0mValueError\u001b[0m\u001b[1;33m(\u001b[0m\u001b[1;34m'Tensor %s may not be fed.'\u001b[0m \u001b[1;33m%\u001b[0m \u001b[0msubfeed_t\u001b[0m\u001b[1;33m)\u001b[0m\u001b[1;33m\u001b[0m\u001b[0m\n",
      "\u001b[0;31mValueError\u001b[0m: Cannot feed value of shape (8,) for Tensor 'X_8:0', which has shape '(?, 8)'"
     ]
    }
   ],
   "source": [
    "# Start training\n",
    "with tf.Session() as sess:\n",
    "\n",
    "    # Run the initializer\n",
    "    sess.run(init)\n",
    "\n",
    "    # Fit all training data\n",
    "    for epoch in range(training_epochs):\n",
    "        for (x, y) in zip(tryx, tryy):\n",
    "            sess.run(optimizer, feed_dict={X: x, Y: y})\n",
    "\n",
    "        # Display logs per epoch step\n",
    "        if (epoch+1) % display_step == 0:\n",
    "            c = sess.run(cost, feed_dict={X: tryx, Y:tryy})\n",
    "            print(\"Epoch:\", '%04d' % (epoch+1), \"cost=\", \"{:.9f}\".format(c), \\\n",
    "                \"W=\", sess.run(W), \"b=\", sess.run(b))\n",
    "\n",
    "    print(\"Optimization Finished!\")\n",
    "    training_cost = sess.run(cost, feed_dict={X: tryx, Y: tryy})\n",
    "    print(\"Training cost=\", training_cost, \"W=\", sess.run(W), \"b=\", sess.run(b), '\\n')\n",
    "\n",
    "    # Graphic display\n",
    "    plt.plot(tryx, tryy, 'ro', label='Original data')\n",
    "    plt.plot(tryx, sess.run(W) * tryx + sess.run(b), label='Fitted line')\n",
    "    plt.legend()\n",
    "    plt.show()"
   ]
  },
  {
   "cell_type": "code",
   "execution_count": 99,
   "metadata": {
    "collapsed": false
   },
   "outputs": [
    {
     "ename": "InvalidArgumentError",
     "evalue": "In[0] is not a matrix\n\t [[Node: MatMul_3 = MatMul[T=DT_FLOAT, transpose_a=false, transpose_b=false, _device=\"/job:localhost/replica:0/task:0/cpu:0\"](_arg_Placeholder_26_0_0, Variable_1/read)]]\n\nCaused by op 'MatMul_3', defined at:\n  File \"C:\\Program Files\\Anaconda3\\lib\\runpy.py\", line 193, in _run_module_as_main\n    \"__main__\", mod_spec)\n  File \"C:\\Program Files\\Anaconda3\\lib\\runpy.py\", line 85, in _run_code\n    exec(code, run_globals)\n  File \"C:\\Program Files\\Anaconda3\\lib\\site-packages\\ipykernel\\__main__.py\", line 3, in <module>\n    app.launch_new_instance()\n  File \"C:\\Program Files\\Anaconda3\\lib\\site-packages\\traitlets\\config\\application.py\", line 658, in launch_instance\n    app.start()\n  File \"C:\\Program Files\\Anaconda3\\lib\\site-packages\\ipykernel\\kernelapp.py\", line 474, in start\n    ioloop.IOLoop.instance().start()\n  File \"C:\\Program Files\\Anaconda3\\lib\\site-packages\\zmq\\eventloop\\ioloop.py\", line 177, in start\n    super(ZMQIOLoop, self).start()\n  File \"C:\\Program Files\\Anaconda3\\lib\\site-packages\\tornado\\ioloop.py\", line 887, in start\n    handler_func(fd_obj, events)\n  File \"C:\\Program Files\\Anaconda3\\lib\\site-packages\\tornado\\stack_context.py\", line 275, in null_wrapper\n    return fn(*args, **kwargs)\n  File \"C:\\Program Files\\Anaconda3\\lib\\site-packages\\zmq\\eventloop\\zmqstream.py\", line 440, in _handle_events\n    self._handle_recv()\n  File \"C:\\Program Files\\Anaconda3\\lib\\site-packages\\zmq\\eventloop\\zmqstream.py\", line 472, in _handle_recv\n    self._run_callback(callback, msg)\n  File \"C:\\Program Files\\Anaconda3\\lib\\site-packages\\zmq\\eventloop\\zmqstream.py\", line 414, in _run_callback\n    callback(*args, **kwargs)\n  File \"C:\\Program Files\\Anaconda3\\lib\\site-packages\\tornado\\stack_context.py\", line 275, in null_wrapper\n    return fn(*args, **kwargs)\n  File \"C:\\Program Files\\Anaconda3\\lib\\site-packages\\ipykernel\\kernelbase.py\", line 276, in dispatcher\n    return self.dispatch_shell(stream, msg)\n  File \"C:\\Program Files\\Anaconda3\\lib\\site-packages\\ipykernel\\kernelbase.py\", line 228, in dispatch_shell\n    handler(stream, idents, msg)\n  File \"C:\\Program Files\\Anaconda3\\lib\\site-packages\\ipykernel\\kernelbase.py\", line 390, in execute_request\n    user_expressions, allow_stdin)\n  File \"C:\\Program Files\\Anaconda3\\lib\\site-packages\\ipykernel\\ipkernel.py\", line 196, in do_execute\n    res = shell.run_cell(code, store_history=store_history, silent=silent)\n  File \"C:\\Program Files\\Anaconda3\\lib\\site-packages\\ipykernel\\zmqshell.py\", line 501, in run_cell\n    return super(ZMQInteractiveShell, self).run_cell(*args, **kwargs)\n  File \"C:\\Program Files\\Anaconda3\\lib\\site-packages\\IPython\\core\\interactiveshell.py\", line 2717, in run_cell\n    interactivity=interactivity, compiler=compiler, result=result)\n  File \"C:\\Program Files\\Anaconda3\\lib\\site-packages\\IPython\\core\\interactiveshell.py\", line 2821, in run_ast_nodes\n    if self.run_code(code, result):\n  File \"C:\\Program Files\\Anaconda3\\lib\\site-packages\\IPython\\core\\interactiveshell.py\", line 2881, in run_code\n    exec(code_obj, self.user_global_ns, self.user_ns)\n  File \"<ipython-input-97-d90285ddaa9c>\", line 5, in <module>\n    y_ = tf.matmul(X, W)\n  File \"C:\\Program Files\\Anaconda3\\lib\\site-packages\\tensorflow\\python\\ops\\math_ops.py\", line 1844, in matmul\n    a, b, transpose_a=transpose_a, transpose_b=transpose_b, name=name)\n  File \"C:\\Program Files\\Anaconda3\\lib\\site-packages\\tensorflow\\python\\ops\\gen_math_ops.py\", line 1289, in _mat_mul\n    transpose_b=transpose_b, name=name)\n  File \"C:\\Program Files\\Anaconda3\\lib\\site-packages\\tensorflow\\python\\framework\\op_def_library.py\", line 767, in apply_op\n    op_def=op_def)\n  File \"C:\\Program Files\\Anaconda3\\lib\\site-packages\\tensorflow\\python\\framework\\ops.py\", line 2630, in create_op\n    original_op=self._default_original_op, op_def=op_def)\n  File \"C:\\Program Files\\Anaconda3\\lib\\site-packages\\tensorflow\\python\\framework\\ops.py\", line 1204, in __init__\n    self._traceback = self._graph._extract_stack()  # pylint: disable=protected-access\n\nInvalidArgumentError (see above for traceback): In[0] is not a matrix\n\t [[Node: MatMul_3 = MatMul[T=DT_FLOAT, transpose_a=false, transpose_b=false, _device=\"/job:localhost/replica:0/task:0/cpu:0\"](_arg_Placeholder_26_0_0, Variable_1/read)]]\n",
     "output_type": "error",
     "traceback": [
      "\u001b[0;31m---------------------------------------------------------------------------\u001b[0m",
      "\u001b[0;31mInvalidArgumentError\u001b[0m                      Traceback (most recent call last)",
      "\u001b[0;32mC:\\Program Files\\Anaconda3\\lib\\site-packages\\tensorflow\\python\\client\\session.py\u001b[0m in \u001b[0;36m_do_call\u001b[0;34m(self, fn, *args)\u001b[0m\n\u001b[1;32m   1326\u001b[0m     \u001b[1;32mtry\u001b[0m\u001b[1;33m:\u001b[0m\u001b[1;33m\u001b[0m\u001b[0m\n\u001b[0;32m-> 1327\u001b[0;31m       \u001b[1;32mreturn\u001b[0m \u001b[0mfn\u001b[0m\u001b[1;33m(\u001b[0m\u001b[1;33m*\u001b[0m\u001b[0margs\u001b[0m\u001b[1;33m)\u001b[0m\u001b[1;33m\u001b[0m\u001b[0m\n\u001b[0m\u001b[1;32m   1328\u001b[0m     \u001b[1;32mexcept\u001b[0m \u001b[0merrors\u001b[0m\u001b[1;33m.\u001b[0m\u001b[0mOpError\u001b[0m \u001b[1;32mas\u001b[0m \u001b[0me\u001b[0m\u001b[1;33m:\u001b[0m\u001b[1;33m\u001b[0m\u001b[0m\n",
      "\u001b[0;32mC:\\Program Files\\Anaconda3\\lib\\site-packages\\tensorflow\\python\\client\\session.py\u001b[0m in \u001b[0;36m_run_fn\u001b[0;34m(session, feed_dict, fetch_list, target_list, options, run_metadata)\u001b[0m\n\u001b[1;32m   1305\u001b[0m                                    \u001b[0mfeed_dict\u001b[0m\u001b[1;33m,\u001b[0m \u001b[0mfetch_list\u001b[0m\u001b[1;33m,\u001b[0m \u001b[0mtarget_list\u001b[0m\u001b[1;33m,\u001b[0m\u001b[1;33m\u001b[0m\u001b[0m\n\u001b[0;32m-> 1306\u001b[0;31m                                    status, run_metadata)\n\u001b[0m\u001b[1;32m   1307\u001b[0m \u001b[1;33m\u001b[0m\u001b[0m\n",
      "\u001b[0;32mC:\\Program Files\\Anaconda3\\lib\\contextlib.py\u001b[0m in \u001b[0;36m__exit__\u001b[0;34m(self, type, value, traceback)\u001b[0m\n\u001b[1;32m     88\u001b[0m             \u001b[1;32mtry\u001b[0m\u001b[1;33m:\u001b[0m\u001b[1;33m\u001b[0m\u001b[0m\n\u001b[0;32m---> 89\u001b[0;31m                 \u001b[0mnext\u001b[0m\u001b[1;33m(\u001b[0m\u001b[0mself\u001b[0m\u001b[1;33m.\u001b[0m\u001b[0mgen\u001b[0m\u001b[1;33m)\u001b[0m\u001b[1;33m\u001b[0m\u001b[0m\n\u001b[0m\u001b[1;32m     90\u001b[0m             \u001b[1;32mexcept\u001b[0m \u001b[0mStopIteration\u001b[0m\u001b[1;33m:\u001b[0m\u001b[1;33m\u001b[0m\u001b[0m\n",
      "\u001b[0;32mC:\\Program Files\\Anaconda3\\lib\\site-packages\\tensorflow\\python\\framework\\errors_impl.py\u001b[0m in \u001b[0;36mraise_exception_on_not_ok_status\u001b[0;34m()\u001b[0m\n\u001b[1;32m    465\u001b[0m           \u001b[0mcompat\u001b[0m\u001b[1;33m.\u001b[0m\u001b[0mas_text\u001b[0m\u001b[1;33m(\u001b[0m\u001b[0mpywrap_tensorflow\u001b[0m\u001b[1;33m.\u001b[0m\u001b[0mTF_Message\u001b[0m\u001b[1;33m(\u001b[0m\u001b[0mstatus\u001b[0m\u001b[1;33m)\u001b[0m\u001b[1;33m)\u001b[0m\u001b[1;33m,\u001b[0m\u001b[1;33m\u001b[0m\u001b[0m\n\u001b[0;32m--> 466\u001b[0;31m           pywrap_tensorflow.TF_GetCode(status))\n\u001b[0m\u001b[1;32m    467\u001b[0m   \u001b[1;32mfinally\u001b[0m\u001b[1;33m:\u001b[0m\u001b[1;33m\u001b[0m\u001b[0m\n",
      "\u001b[0;31mInvalidArgumentError\u001b[0m: In[0] is not a matrix\n\t [[Node: MatMul_3 = MatMul[T=DT_FLOAT, transpose_a=false, transpose_b=false, _device=\"/job:localhost/replica:0/task:0/cpu:0\"](_arg_Placeholder_26_0_0, Variable_1/read)]]",
      "\nDuring handling of the above exception, another exception occurred:\n",
      "\u001b[0;31mInvalidArgumentError\u001b[0m                      Traceback (most recent call last)",
      "\u001b[0;32m<ipython-input-99-5e3954a99230>\u001b[0m in \u001b[0;36m<module>\u001b[0;34m()\u001b[0m\n\u001b[1;32m      5\u001b[0m \u001b[1;32mfor\u001b[0m \u001b[0mepoch\u001b[0m \u001b[1;32min\u001b[0m \u001b[0mrange\u001b[0m\u001b[1;33m(\u001b[0m\u001b[0mtraining_epochs\u001b[0m\u001b[1;33m)\u001b[0m\u001b[1;33m:\u001b[0m\u001b[1;33m\u001b[0m\u001b[0m\n\u001b[1;32m      6\u001b[0m     \u001b[1;32mfor\u001b[0m \u001b[1;33m(\u001b[0m\u001b[0mx\u001b[0m\u001b[1;33m,\u001b[0m \u001b[0my\u001b[0m\u001b[1;33m)\u001b[0m \u001b[1;32min\u001b[0m \u001b[0mzip\u001b[0m\u001b[1;33m(\u001b[0m\u001b[0mx_train_energy\u001b[0m\u001b[1;33m,\u001b[0m \u001b[0my_train_energy\u001b[0m\u001b[1;33m[\u001b[0m\u001b[1;33m:\u001b[0m\u001b[1;33m,\u001b[0m\u001b[1;36m0\u001b[0m\u001b[1;33m:\u001b[0m\u001b[1;36m1\u001b[0m\u001b[1;33m]\u001b[0m\u001b[1;33m)\u001b[0m\u001b[1;33m:\u001b[0m\u001b[1;33m\u001b[0m\u001b[0m\n\u001b[0;32m----> 7\u001b[0;31m         \u001b[0msess\u001b[0m\u001b[1;33m.\u001b[0m\u001b[0mrun\u001b[0m\u001b[1;33m(\u001b[0m\u001b[0moptimizer\u001b[0m\u001b[1;33m,\u001b[0m \u001b[0mfeed_dict\u001b[0m\u001b[1;33m=\u001b[0m\u001b[1;33m{\u001b[0m\u001b[0mX\u001b[0m\u001b[1;33m:\u001b[0m \u001b[0mx\u001b[0m\u001b[1;33m,\u001b[0m \u001b[0mY\u001b[0m\u001b[1;33m:\u001b[0m \u001b[0my\u001b[0m\u001b[1;33m}\u001b[0m\u001b[1;33m)\u001b[0m\u001b[1;33m\u001b[0m\u001b[0m\n\u001b[0m\u001b[1;32m      8\u001b[0m     \u001b[0mcost_history\u001b[0m \u001b[1;33m=\u001b[0m \u001b[0mnp\u001b[0m\u001b[1;33m.\u001b[0m\u001b[0mappend\u001b[0m\u001b[1;33m(\u001b[0m\u001b[0mcost_history\u001b[0m\u001b[1;33m,\u001b[0m\u001b[0msess\u001b[0m\u001b[1;33m.\u001b[0m\u001b[0mrun\u001b[0m\u001b[1;33m(\u001b[0m\u001b[0mcost\u001b[0m\u001b[1;33m,\u001b[0m\u001b[0mfeed_dict\u001b[0m\u001b[1;33m=\u001b[0m\u001b[1;33m{\u001b[0m\u001b[0mX\u001b[0m\u001b[1;33m:\u001b[0m \u001b[0mx_train_energy\u001b[0m\u001b[1;33m,\u001b[0m\u001b[0mY\u001b[0m\u001b[1;33m:\u001b[0m \u001b[0my_train_energy\u001b[0m\u001b[1;33m[\u001b[0m\u001b[1;33m:\u001b[0m\u001b[1;33m,\u001b[0m\u001b[1;36m0\u001b[0m\u001b[1;33m:\u001b[0m\u001b[1;36m1\u001b[0m\u001b[1;33m]\u001b[0m\u001b[1;33m}\u001b[0m\u001b[1;33m)\u001b[0m\u001b[1;33m)\u001b[0m\u001b[1;33m\u001b[0m\u001b[0m\n",
      "\u001b[0;32mC:\\Program Files\\Anaconda3\\lib\\site-packages\\tensorflow\\python\\client\\session.py\u001b[0m in \u001b[0;36mrun\u001b[0;34m(self, fetches, feed_dict, options, run_metadata)\u001b[0m\n\u001b[1;32m    893\u001b[0m     \u001b[1;32mtry\u001b[0m\u001b[1;33m:\u001b[0m\u001b[1;33m\u001b[0m\u001b[0m\n\u001b[1;32m    894\u001b[0m       result = self._run(None, fetches, feed_dict, options_ptr,\n\u001b[0;32m--> 895\u001b[0;31m                          run_metadata_ptr)\n\u001b[0m\u001b[1;32m    896\u001b[0m       \u001b[1;32mif\u001b[0m \u001b[0mrun_metadata\u001b[0m\u001b[1;33m:\u001b[0m\u001b[1;33m\u001b[0m\u001b[0m\n\u001b[1;32m    897\u001b[0m         \u001b[0mproto_data\u001b[0m \u001b[1;33m=\u001b[0m \u001b[0mtf_session\u001b[0m\u001b[1;33m.\u001b[0m\u001b[0mTF_GetBuffer\u001b[0m\u001b[1;33m(\u001b[0m\u001b[0mrun_metadata_ptr\u001b[0m\u001b[1;33m)\u001b[0m\u001b[1;33m\u001b[0m\u001b[0m\n",
      "\u001b[0;32mC:\\Program Files\\Anaconda3\\lib\\site-packages\\tensorflow\\python\\client\\session.py\u001b[0m in \u001b[0;36m_run\u001b[0;34m(self, handle, fetches, feed_dict, options, run_metadata)\u001b[0m\n\u001b[1;32m   1122\u001b[0m     \u001b[1;32mif\u001b[0m \u001b[0mfinal_fetches\u001b[0m \u001b[1;32mor\u001b[0m \u001b[0mfinal_targets\u001b[0m \u001b[1;32mor\u001b[0m \u001b[1;33m(\u001b[0m\u001b[0mhandle\u001b[0m \u001b[1;32mand\u001b[0m \u001b[0mfeed_dict_tensor\u001b[0m\u001b[1;33m)\u001b[0m\u001b[1;33m:\u001b[0m\u001b[1;33m\u001b[0m\u001b[0m\n\u001b[1;32m   1123\u001b[0m       results = self._do_run(handle, final_targets, final_fetches,\n\u001b[0;32m-> 1124\u001b[0;31m                              feed_dict_tensor, options, run_metadata)\n\u001b[0m\u001b[1;32m   1125\u001b[0m     \u001b[1;32melse\u001b[0m\u001b[1;33m:\u001b[0m\u001b[1;33m\u001b[0m\u001b[0m\n\u001b[1;32m   1126\u001b[0m       \u001b[0mresults\u001b[0m \u001b[1;33m=\u001b[0m \u001b[1;33m[\u001b[0m\u001b[1;33m]\u001b[0m\u001b[1;33m\u001b[0m\u001b[0m\n",
      "\u001b[0;32mC:\\Program Files\\Anaconda3\\lib\\site-packages\\tensorflow\\python\\client\\session.py\u001b[0m in \u001b[0;36m_do_run\u001b[0;34m(self, handle, target_list, fetch_list, feed_dict, options, run_metadata)\u001b[0m\n\u001b[1;32m   1319\u001b[0m     \u001b[1;32mif\u001b[0m \u001b[0mhandle\u001b[0m \u001b[1;32mis\u001b[0m \u001b[1;32mNone\u001b[0m\u001b[1;33m:\u001b[0m\u001b[1;33m\u001b[0m\u001b[0m\n\u001b[1;32m   1320\u001b[0m       return self._do_call(_run_fn, self._session, feeds, fetches, targets,\n\u001b[0;32m-> 1321\u001b[0;31m                            options, run_metadata)\n\u001b[0m\u001b[1;32m   1322\u001b[0m     \u001b[1;32melse\u001b[0m\u001b[1;33m:\u001b[0m\u001b[1;33m\u001b[0m\u001b[0m\n\u001b[1;32m   1323\u001b[0m       \u001b[1;32mreturn\u001b[0m \u001b[0mself\u001b[0m\u001b[1;33m.\u001b[0m\u001b[0m_do_call\u001b[0m\u001b[1;33m(\u001b[0m\u001b[0m_prun_fn\u001b[0m\u001b[1;33m,\u001b[0m \u001b[0mself\u001b[0m\u001b[1;33m.\u001b[0m\u001b[0m_session\u001b[0m\u001b[1;33m,\u001b[0m \u001b[0mhandle\u001b[0m\u001b[1;33m,\u001b[0m \u001b[0mfeeds\u001b[0m\u001b[1;33m,\u001b[0m \u001b[0mfetches\u001b[0m\u001b[1;33m)\u001b[0m\u001b[1;33m\u001b[0m\u001b[0m\n",
      "\u001b[0;32mC:\\Program Files\\Anaconda3\\lib\\site-packages\\tensorflow\\python\\client\\session.py\u001b[0m in \u001b[0;36m_do_call\u001b[0;34m(self, fn, *args)\u001b[0m\n\u001b[1;32m   1338\u001b[0m         \u001b[1;32mexcept\u001b[0m \u001b[0mKeyError\u001b[0m\u001b[1;33m:\u001b[0m\u001b[1;33m\u001b[0m\u001b[0m\n\u001b[1;32m   1339\u001b[0m           \u001b[1;32mpass\u001b[0m\u001b[1;33m\u001b[0m\u001b[0m\n\u001b[0;32m-> 1340\u001b[0;31m       \u001b[1;32mraise\u001b[0m \u001b[0mtype\u001b[0m\u001b[1;33m(\u001b[0m\u001b[0me\u001b[0m\u001b[1;33m)\u001b[0m\u001b[1;33m(\u001b[0m\u001b[0mnode_def\u001b[0m\u001b[1;33m,\u001b[0m \u001b[0mop\u001b[0m\u001b[1;33m,\u001b[0m \u001b[0mmessage\u001b[0m\u001b[1;33m)\u001b[0m\u001b[1;33m\u001b[0m\u001b[0m\n\u001b[0m\u001b[1;32m   1341\u001b[0m \u001b[1;33m\u001b[0m\u001b[0m\n\u001b[1;32m   1342\u001b[0m   \u001b[1;32mdef\u001b[0m \u001b[0m_extend_graph\u001b[0m\u001b[1;33m(\u001b[0m\u001b[0mself\u001b[0m\u001b[1;33m)\u001b[0m\u001b[1;33m:\u001b[0m\u001b[1;33m\u001b[0m\u001b[0m\n",
      "\u001b[0;31mInvalidArgumentError\u001b[0m: In[0] is not a matrix\n\t [[Node: MatMul_3 = MatMul[T=DT_FLOAT, transpose_a=false, transpose_b=false, _device=\"/job:localhost/replica:0/task:0/cpu:0\"](_arg_Placeholder_26_0_0, Variable_1/read)]]\n\nCaused by op 'MatMul_3', defined at:\n  File \"C:\\Program Files\\Anaconda3\\lib\\runpy.py\", line 193, in _run_module_as_main\n    \"__main__\", mod_spec)\n  File \"C:\\Program Files\\Anaconda3\\lib\\runpy.py\", line 85, in _run_code\n    exec(code, run_globals)\n  File \"C:\\Program Files\\Anaconda3\\lib\\site-packages\\ipykernel\\__main__.py\", line 3, in <module>\n    app.launch_new_instance()\n  File \"C:\\Program Files\\Anaconda3\\lib\\site-packages\\traitlets\\config\\application.py\", line 658, in launch_instance\n    app.start()\n  File \"C:\\Program Files\\Anaconda3\\lib\\site-packages\\ipykernel\\kernelapp.py\", line 474, in start\n    ioloop.IOLoop.instance().start()\n  File \"C:\\Program Files\\Anaconda3\\lib\\site-packages\\zmq\\eventloop\\ioloop.py\", line 177, in start\n    super(ZMQIOLoop, self).start()\n  File \"C:\\Program Files\\Anaconda3\\lib\\site-packages\\tornado\\ioloop.py\", line 887, in start\n    handler_func(fd_obj, events)\n  File \"C:\\Program Files\\Anaconda3\\lib\\site-packages\\tornado\\stack_context.py\", line 275, in null_wrapper\n    return fn(*args, **kwargs)\n  File \"C:\\Program Files\\Anaconda3\\lib\\site-packages\\zmq\\eventloop\\zmqstream.py\", line 440, in _handle_events\n    self._handle_recv()\n  File \"C:\\Program Files\\Anaconda3\\lib\\site-packages\\zmq\\eventloop\\zmqstream.py\", line 472, in _handle_recv\n    self._run_callback(callback, msg)\n  File \"C:\\Program Files\\Anaconda3\\lib\\site-packages\\zmq\\eventloop\\zmqstream.py\", line 414, in _run_callback\n    callback(*args, **kwargs)\n  File \"C:\\Program Files\\Anaconda3\\lib\\site-packages\\tornado\\stack_context.py\", line 275, in null_wrapper\n    return fn(*args, **kwargs)\n  File \"C:\\Program Files\\Anaconda3\\lib\\site-packages\\ipykernel\\kernelbase.py\", line 276, in dispatcher\n    return self.dispatch_shell(stream, msg)\n  File \"C:\\Program Files\\Anaconda3\\lib\\site-packages\\ipykernel\\kernelbase.py\", line 228, in dispatch_shell\n    handler(stream, idents, msg)\n  File \"C:\\Program Files\\Anaconda3\\lib\\site-packages\\ipykernel\\kernelbase.py\", line 390, in execute_request\n    user_expressions, allow_stdin)\n  File \"C:\\Program Files\\Anaconda3\\lib\\site-packages\\ipykernel\\ipkernel.py\", line 196, in do_execute\n    res = shell.run_cell(code, store_history=store_history, silent=silent)\n  File \"C:\\Program Files\\Anaconda3\\lib\\site-packages\\ipykernel\\zmqshell.py\", line 501, in run_cell\n    return super(ZMQInteractiveShell, self).run_cell(*args, **kwargs)\n  File \"C:\\Program Files\\Anaconda3\\lib\\site-packages\\IPython\\core\\interactiveshell.py\", line 2717, in run_cell\n    interactivity=interactivity, compiler=compiler, result=result)\n  File \"C:\\Program Files\\Anaconda3\\lib\\site-packages\\IPython\\core\\interactiveshell.py\", line 2821, in run_ast_nodes\n    if self.run_code(code, result):\n  File \"C:\\Program Files\\Anaconda3\\lib\\site-packages\\IPython\\core\\interactiveshell.py\", line 2881, in run_code\n    exec(code_obj, self.user_global_ns, self.user_ns)\n  File \"<ipython-input-97-d90285ddaa9c>\", line 5, in <module>\n    y_ = tf.matmul(X, W)\n  File \"C:\\Program Files\\Anaconda3\\lib\\site-packages\\tensorflow\\python\\ops\\math_ops.py\", line 1844, in matmul\n    a, b, transpose_a=transpose_a, transpose_b=transpose_b, name=name)\n  File \"C:\\Program Files\\Anaconda3\\lib\\site-packages\\tensorflow\\python\\ops\\gen_math_ops.py\", line 1289, in _mat_mul\n    transpose_b=transpose_b, name=name)\n  File \"C:\\Program Files\\Anaconda3\\lib\\site-packages\\tensorflow\\python\\framework\\op_def_library.py\", line 767, in apply_op\n    op_def=op_def)\n  File \"C:\\Program Files\\Anaconda3\\lib\\site-packages\\tensorflow\\python\\framework\\ops.py\", line 2630, in create_op\n    original_op=self._default_original_op, op_def=op_def)\n  File \"C:\\Program Files\\Anaconda3\\lib\\site-packages\\tensorflow\\python\\framework\\ops.py\", line 1204, in __init__\n    self._traceback = self._graph._extract_stack()  # pylint: disable=protected-access\n\nInvalidArgumentError (see above for traceback): In[0] is not a matrix\n\t [[Node: MatMul_3 = MatMul[T=DT_FLOAT, transpose_a=false, transpose_b=false, _device=\"/job:localhost/replica:0/task:0/cpu:0\"](_arg_Placeholder_26_0_0, Variable_1/read)]]\n"
     ]
    }
   ],
   "source": [
    "# Start training\n",
    "sess = tf.Session()\n",
    "sess.run(init)\n",
    "\n",
    "for epoch in range(training_epochs):\n",
    "    for (x, y) in zip(x_train_energy, y_train_energy[:,0:1]):\n",
    "        sess.run(optimizer, feed_dict={X: x, Y: y})\n",
    "    cost_history = np.append(cost_history,sess.run(cost,feed_dict={X: x_train_energy,Y: y_train_energy[:,0:1]}))"
   ]
  },
  {
   "cell_type": "code",
   "execution_count": 89,
   "metadata": {
    "collapsed": false
   },
   "outputs": [
    {
     "name": "stderr",
     "output_type": "stream",
     "text": [
      "C:\\Program Files\\Anaconda3\\lib\\site-packages\\numpy\\core\\_methods.py:26: RuntimeWarning: invalid value encountered in reduce\n",
      "  return umr_maximum(a, axis, None, out, keepdims)\n"
     ]
    },
    {
     "data": {
      "image/png": "[encoded data removed]",
      "text/plain": [
       "<matplotlib.figure.Figure at 0x212e4a2aeb8>"
      ]
     },
     "metadata": {},
     "output_type": "display_data"
    }
   ],
   "source": [
    "plt.plot(range(len(cost_history)),cost_history)\n",
    "plt.axis([0,training_epochs,0,np.max(cost_history)])\n",
    "plt.show()"
   ]
  },
  {
   "cell_type": "code",
   "execution_count": 90,
   "metadata": {
    "collapsed": false
   },
   "outputs": [
    {
     "name": "stdout",
     "output_type": "stream",
     "text": [
      "MSE: nan\n"
     ]
    },
    {
     "data": {
      "image/png": "[encoded data removed]",
      "text/plain": [
       "<matplotlib.figure.Figure at 0x212e4aa5320>"
      ]
     },
     "metadata": {},
     "output_type": "display_data"
    }
   ],
   "source": [
    "pred_y = sess.run(y_, feed_dict={X: x_test_energy})\n",
    "mse = tf.reduce_mean(tf.square(pred_y - y_test_energy[:,0:1]))\n",
    "print(\"MSE: %.4f\" % sess.run(mse)) \n",
    "\n",
    "fig, ax = plt.subplots()\n",
    "ax.scatter(y_test_energy[:,0:1], pred_y)\n",
    "ax.plot([y_test_energy[:,0:1].min(), y_test_energy[:,0:1].max()], [y_test_energy[:,0:1].min(), y_test_energy[:,0:1].max()], 'k--', lw=3)\n",
    "ax.set_xlabel('Measured')\n",
    "ax.set_ylabel('Predicted')\n",
    "plt.show()"
   ]
  },
  {
   "cell_type": "code",
   "execution_count": 102,
   "metadata": {
    "collapsed": true
   },
   "outputs": [],
   "source": [
    "sess.close()"
   ]
  },
  {
   "cell_type": "code",
   "execution_count": 98,
   "metadata": {
    "collapsed": false
   },
   "outputs": [
    {
     "name": "stdout",
     "output_type": "stream",
     "text": [
      "INFO:tensorflow:Using default config.\n",
      "WARNING:tensorflow:Using temporary folder as model directory: C:\\Users\\McNair\\AppData\\Local\\Temp\\tmplcz5i7ic\n",
      "INFO:tensorflow:Using config: {'_model_dir': 'C:\\\\Users\\\\McNair\\\\AppData\\\\Local\\\\Temp\\\\tmplcz5i7ic', '_tf_random_seed': 1, '_save_summary_steps': 100, '_save_checkpoints_secs': 600, '_save_checkpoints_steps': None, '_session_config': None, '_keep_checkpoint_max': 5, '_keep_checkpoint_every_n_hours': 10000, '_log_step_count_steps': 100}\n"
     ]
    }
   ],
   "source": [
    "# Build the Estimator.\n",
    "model = tf.estimator.LinearRegressor(feature_columns=x_train_energy)"
   ]
  },
  {
   "cell_type": "code",
   "execution_count": 101,
   "metadata": {
    "collapsed": false
   },
   "outputs": [
    {
     "ename": "TypeError",
     "evalue": "unsupported callable",
     "output_type": "error",
     "traceback": [
      "\u001b[0;31m---------------------------------------------------------------------------\u001b[0m",
      "\u001b[0;31mTypeError\u001b[0m                                 Traceback (most recent call last)",
      "\u001b[0;32mC:\\Program Files\\Anaconda3\\lib\\inspect.py\u001b[0m in \u001b[0;36mgetfullargspec\u001b[0;34m(func)\u001b[0m\n\u001b[1;32m   1088\u001b[0m                                        \u001b[0mskip_bound_arg\u001b[0m\u001b[1;33m=\u001b[0m\u001b[1;32mFalse\u001b[0m\u001b[1;33m,\u001b[0m\u001b[1;33m\u001b[0m\u001b[0m\n\u001b[0;32m-> 1089\u001b[0;31m                                        sigcls=Signature)\n\u001b[0m\u001b[1;32m   1090\u001b[0m     \u001b[1;32mexcept\u001b[0m \u001b[0mException\u001b[0m \u001b[1;32mas\u001b[0m \u001b[0mex\u001b[0m\u001b[1;33m:\u001b[0m\u001b[1;33m\u001b[0m\u001b[0m\n",
      "\u001b[0;32mC:\\Program Files\\Anaconda3\\lib\\inspect.py\u001b[0m in \u001b[0;36m_signature_from_callable\u001b[0;34m(obj, follow_wrapper_chains, skip_bound_arg, sigcls)\u001b[0m\n\u001b[1;32m   2156\u001b[0m     \u001b[1;32mif\u001b[0m \u001b[1;32mnot\u001b[0m \u001b[0mcallable\u001b[0m\u001b[1;33m(\u001b[0m\u001b[0mobj\u001b[0m\u001b[1;33m)\u001b[0m\u001b[1;33m:\u001b[0m\u001b[1;33m\u001b[0m\u001b[0m\n\u001b[0;32m-> 2157\u001b[0;31m         \u001b[1;32mraise\u001b[0m \u001b[0mTypeError\u001b[0m\u001b[1;33m(\u001b[0m\u001b[1;34m'{!r} is not a callable object'\u001b[0m\u001b[1;33m.\u001b[0m\u001b[0mformat\u001b[0m\u001b[1;33m(\u001b[0m\u001b[0mobj\u001b[0m\u001b[1;33m)\u001b[0m\u001b[1;33m)\u001b[0m\u001b[1;33m\u001b[0m\u001b[0m\n\u001b[0m\u001b[1;32m   2158\u001b[0m \u001b[1;33m\u001b[0m\u001b[0m\n",
      "\u001b[0;31mTypeError\u001b[0m: array([[7.400e-01, 6.860e+02, 2.450e+02, ..., 2.000e+00, 4.000e-01,\n        5.000e+00],\n       [9.800e-01, 5.145e+02, 2.940e+02, ..., 4.000e+00, 2.500e-01,\n        4.000e+00],\n       [6.400e-01, 7.840e+02, 3.430e+02, ..., 2.000e+00, 1.000e-01,\n        5.000e+00],\n       ...,\n       [7.400e-01, 6.860e+02, 2.450e+02, ..., 5.000e+00, 0.000e+00,\n        0.000e+00],\n       [6.400e-01, 7.840e+02, 3.430e+02, ..., 5.000e+00, 1.000e-01,\n        4.000e+00],\n       [7.600e-01, 6.615e+02, 4.165e+02, ..., 4.000e+00, 4.000e-01,\n        2.000e+00]]) is not a callable object",
      "\nThe above exception was the direct cause of the following exception:\n",
      "\u001b[0;31mTypeError\u001b[0m                                 Traceback (most recent call last)",
      "\u001b[0;32m<ipython-input-101-617dc3a92231>\u001b[0m in \u001b[0;36m<module>\u001b[0;34m()\u001b[0m\n\u001b[0;32m----> 1\u001b[0;31m \u001b[0mmodel\u001b[0m\u001b[1;33m.\u001b[0m\u001b[0mtrain\u001b[0m\u001b[1;33m(\u001b[0m\u001b[0minput_fn\u001b[0m\u001b[1;33m=\u001b[0m\u001b[0mx_train_energy\u001b[0m\u001b[1;33m,\u001b[0m \u001b[0msteps\u001b[0m\u001b[1;33m=\u001b[0m\u001b[1;36m1000\u001b[0m\u001b[1;33m)\u001b[0m\u001b[1;33m\u001b[0m\u001b[0m\n\u001b[0m",
      "\u001b[0;32mC:\\Program Files\\Anaconda3\\lib\\site-packages\\tensorflow\\python\\estimator\\estimator.py\u001b[0m in \u001b[0;36mtrain\u001b[0;34m(self, input_fn, hooks, steps, max_steps)\u001b[0m\n\u001b[1;32m    239\u001b[0m       \u001b[0mhooks\u001b[0m\u001b[1;33m.\u001b[0m\u001b[0mappend\u001b[0m\u001b[1;33m(\u001b[0m\u001b[0mtraining\u001b[0m\u001b[1;33m.\u001b[0m\u001b[0mStopAtStepHook\u001b[0m\u001b[1;33m(\u001b[0m\u001b[0msteps\u001b[0m\u001b[1;33m,\u001b[0m \u001b[0mmax_steps\u001b[0m\u001b[1;33m)\u001b[0m\u001b[1;33m)\u001b[0m\u001b[1;33m\u001b[0m\u001b[0m\n\u001b[1;32m    240\u001b[0m \u001b[1;33m\u001b[0m\u001b[0m\n\u001b[0;32m--> 241\u001b[0;31m     \u001b[0mloss\u001b[0m \u001b[1;33m=\u001b[0m \u001b[0mself\u001b[0m\u001b[1;33m.\u001b[0m\u001b[0m_train_model\u001b[0m\u001b[1;33m(\u001b[0m\u001b[0minput_fn\u001b[0m\u001b[1;33m=\u001b[0m\u001b[0minput_fn\u001b[0m\u001b[1;33m,\u001b[0m \u001b[0mhooks\u001b[0m\u001b[1;33m=\u001b[0m\u001b[0mhooks\u001b[0m\u001b[1;33m)\u001b[0m\u001b[1;33m\u001b[0m\u001b[0m\n\u001b[0m\u001b[1;32m    242\u001b[0m     \u001b[0mlogging\u001b[0m\u001b[1;33m.\u001b[0m\u001b[0minfo\u001b[0m\u001b[1;33m(\u001b[0m\u001b[1;34m'Loss for final step: %s.'\u001b[0m\u001b[1;33m,\u001b[0m \u001b[0mloss\u001b[0m\u001b[1;33m)\u001b[0m\u001b[1;33m\u001b[0m\u001b[0m\n\u001b[1;32m    243\u001b[0m     \u001b[1;32mreturn\u001b[0m \u001b[0mself\u001b[0m\u001b[1;33m\u001b[0m\u001b[0m\n",
      "\u001b[0;32mC:\\Program Files\\Anaconda3\\lib\\site-packages\\tensorflow\\python\\estimator\\estimator.py\u001b[0m in \u001b[0;36m_train_model\u001b[0;34m(self, input_fn, hooks)\u001b[0m\n\u001b[1;32m    626\u001b[0m       \u001b[0mglobal_step_tensor\u001b[0m \u001b[1;33m=\u001b[0m \u001b[0mself\u001b[0m\u001b[1;33m.\u001b[0m\u001b[0m_create_and_assert_global_step\u001b[0m\u001b[1;33m(\u001b[0m\u001b[0mg\u001b[0m\u001b[1;33m)\u001b[0m\u001b[1;33m\u001b[0m\u001b[0m\n\u001b[1;32m    627\u001b[0m       features, labels = self._get_features_and_labels_from_input_fn(\n\u001b[0;32m--> 628\u001b[0;31m           input_fn, model_fn_lib.ModeKeys.TRAIN)\n\u001b[0m\u001b[1;32m    629\u001b[0m       estimator_spec = self._call_model_fn(features, labels,\n\u001b[1;32m    630\u001b[0m                                            model_fn_lib.ModeKeys.TRAIN)\n",
      "\u001b[0;32mC:\\Program Files\\Anaconda3\\lib\\site-packages\\tensorflow\\python\\estimator\\estimator.py\u001b[0m in \u001b[0;36m_get_features_and_labels_from_input_fn\u001b[0;34m(self, input_fn, mode)\u001b[0m\n\u001b[1;32m    497\u001b[0m \u001b[1;33m\u001b[0m\u001b[0m\n\u001b[1;32m    498\u001b[0m   \u001b[1;32mdef\u001b[0m \u001b[0m_get_features_and_labels_from_input_fn\u001b[0m\u001b[1;33m(\u001b[0m\u001b[0mself\u001b[0m\u001b[1;33m,\u001b[0m \u001b[0minput_fn\u001b[0m\u001b[1;33m,\u001b[0m \u001b[0mmode\u001b[0m\u001b[1;33m)\u001b[0m\u001b[1;33m:\u001b[0m\u001b[1;33m\u001b[0m\u001b[0m\n\u001b[0;32m--> 499\u001b[0;31m     \u001b[0mresult\u001b[0m \u001b[1;33m=\u001b[0m \u001b[0mself\u001b[0m\u001b[1;33m.\u001b[0m\u001b[0m_call_input_fn\u001b[0m\u001b[1;33m(\u001b[0m\u001b[0minput_fn\u001b[0m\u001b[1;33m,\u001b[0m \u001b[0mmode\u001b[0m\u001b[1;33m)\u001b[0m\u001b[1;33m\u001b[0m\u001b[0m\n\u001b[0m\u001b[1;32m    500\u001b[0m     \u001b[1;32mif\u001b[0m \u001b[0misinstance\u001b[0m\u001b[1;33m(\u001b[0m\u001b[0mresult\u001b[0m\u001b[1;33m,\u001b[0m \u001b[1;33m(\u001b[0m\u001b[0mlist\u001b[0m\u001b[1;33m,\u001b[0m \u001b[0mtuple\u001b[0m\u001b[1;33m)\u001b[0m\u001b[1;33m)\u001b[0m\u001b[1;33m:\u001b[0m\u001b[1;33m\u001b[0m\u001b[0m\n\u001b[1;32m    501\u001b[0m       \u001b[1;32mif\u001b[0m \u001b[0mlen\u001b[0m\u001b[1;33m(\u001b[0m\u001b[0mresult\u001b[0m\u001b[1;33m)\u001b[0m \u001b[1;33m!=\u001b[0m \u001b[1;36m2\u001b[0m\u001b[1;33m:\u001b[0m\u001b[1;33m\u001b[0m\u001b[0m\n",
      "\u001b[0;32mC:\\Program Files\\Anaconda3\\lib\\site-packages\\tensorflow\\python\\estimator\\estimator.py\u001b[0m in \u001b[0;36m_call_input_fn\u001b[0;34m(***failed resolving arguments***)\u001b[0m\n\u001b[1;32m    576\u001b[0m     \"\"\"\n\u001b[1;32m    577\u001b[0m     \u001b[1;32mdel\u001b[0m \u001b[0mmode\u001b[0m  \u001b[1;31m# unused\u001b[0m\u001b[1;33m\u001b[0m\u001b[0m\n\u001b[0;32m--> 578\u001b[0;31m     \u001b[0minput_fn_args\u001b[0m \u001b[1;33m=\u001b[0m \u001b[0mutil\u001b[0m\u001b[1;33m.\u001b[0m\u001b[0mfn_args\u001b[0m\u001b[1;33m(\u001b[0m\u001b[0minput_fn\u001b[0m\u001b[1;33m)\u001b[0m\u001b[1;33m\u001b[0m\u001b[0m\n\u001b[0m\u001b[1;32m    579\u001b[0m     \u001b[0mkwargs\u001b[0m \u001b[1;33m=\u001b[0m \u001b[1;33m{\u001b[0m\u001b[1;33m}\u001b[0m\u001b[1;33m\u001b[0m\u001b[0m\n\u001b[1;32m    580\u001b[0m     \u001b[1;32mif\u001b[0m \u001b[1;34m'params'\u001b[0m \u001b[1;32min\u001b[0m \u001b[0minput_fn_args\u001b[0m\u001b[1;33m:\u001b[0m\u001b[1;33m\u001b[0m\u001b[0m\n",
      "\u001b[0;32mC:\\Program Files\\Anaconda3\\lib\\site-packages\\tensorflow\\python\\estimator\\util.py\u001b[0m in \u001b[0;36mfn_args\u001b[0;34m(fn)\u001b[0m\n\u001b[1;32m     55\u001b[0m \u001b[1;33m\u001b[0m\u001b[0m\n\u001b[1;32m     56\u001b[0m   \u001b[1;31m# Handle function.\u001b[0m\u001b[1;33m\u001b[0m\u001b[1;33m\u001b[0m\u001b[0m\n\u001b[0;32m---> 57\u001b[0;31m   \u001b[1;32mreturn\u001b[0m \u001b[0mtuple\u001b[0m\u001b[1;33m(\u001b[0m\u001b[0mtf_inspect\u001b[0m\u001b[1;33m.\u001b[0m\u001b[0mgetargspec\u001b[0m\u001b[1;33m(\u001b[0m\u001b[0mfn\u001b[0m\u001b[1;33m)\u001b[0m\u001b[1;33m.\u001b[0m\u001b[0margs\u001b[0m\u001b[1;33m)\u001b[0m\u001b[1;33m\u001b[0m\u001b[0m\n\u001b[0m",
      "\u001b[0;32mC:\\Program Files\\Anaconda3\\lib\\site-packages\\tensorflow\\python\\util\\tf_inspect.py\u001b[0m in \u001b[0;36mgetargspec\u001b[0;34m(object)\u001b[0m\n\u001b[1;32m     43\u001b[0m   \u001b[0mdecorators\u001b[0m\u001b[1;33m,\u001b[0m \u001b[0mtarget\u001b[0m \u001b[1;33m=\u001b[0m \u001b[0mtf_decorator\u001b[0m\u001b[1;33m.\u001b[0m\u001b[0munwrap\u001b[0m\u001b[1;33m(\u001b[0m\u001b[0mobject\u001b[0m\u001b[1;33m)\u001b[0m\u001b[1;33m\u001b[0m\u001b[0m\n\u001b[1;32m     44\u001b[0m   return next((d.decorator_argspec for d in decorators\n\u001b[0;32m---> 45\u001b[0;31m                if d.decorator_argspec is not None), _inspect.getargspec(target))\n\u001b[0m\u001b[1;32m     46\u001b[0m \u001b[1;33m\u001b[0m\u001b[0m\n\u001b[1;32m     47\u001b[0m \u001b[1;33m\u001b[0m\u001b[0m\n",
      "\u001b[0;32mC:\\Program Files\\Anaconda3\\lib\\inspect.py\u001b[0m in \u001b[0;36mgetargspec\u001b[0;34m(func)\u001b[0m\n\u001b[1;32m   1041\u001b[0m                   DeprecationWarning, stacklevel=2)\n\u001b[1;32m   1042\u001b[0m     \u001b[0margs\u001b[0m\u001b[1;33m,\u001b[0m \u001b[0mvarargs\u001b[0m\u001b[1;33m,\u001b[0m \u001b[0mvarkw\u001b[0m\u001b[1;33m,\u001b[0m \u001b[0mdefaults\u001b[0m\u001b[1;33m,\u001b[0m \u001b[0mkwonlyargs\u001b[0m\u001b[1;33m,\u001b[0m \u001b[0mkwonlydefaults\u001b[0m\u001b[1;33m,\u001b[0m \u001b[0mann\u001b[0m \u001b[1;33m=\u001b[0m\u001b[0;31m \u001b[0m\u001b[0;31m\\\u001b[0m\u001b[1;33m\u001b[0m\u001b[0m\n\u001b[0;32m-> 1043\u001b[0;31m         \u001b[0mgetfullargspec\u001b[0m\u001b[1;33m(\u001b[0m\u001b[0mfunc\u001b[0m\u001b[1;33m)\u001b[0m\u001b[1;33m\u001b[0m\u001b[0m\n\u001b[0m\u001b[1;32m   1044\u001b[0m     \u001b[1;32mif\u001b[0m \u001b[0mkwonlyargs\u001b[0m \u001b[1;32mor\u001b[0m \u001b[0mann\u001b[0m\u001b[1;33m:\u001b[0m\u001b[1;33m\u001b[0m\u001b[0m\n\u001b[1;32m   1045\u001b[0m         raise ValueError(\"Function has keyword-only parameters or annotations\"\n",
      "\u001b[0;32mC:\\Program Files\\Anaconda3\\lib\\inspect.py\u001b[0m in \u001b[0;36mgetfullargspec\u001b[0;34m(func)\u001b[0m\n\u001b[1;32m   1093\u001b[0m         \u001b[1;31m# else. So to be fully backwards compatible, we catch all\u001b[0m\u001b[1;33m\u001b[0m\u001b[1;33m\u001b[0m\u001b[0m\n\u001b[1;32m   1094\u001b[0m         \u001b[1;31m# possible exceptions here, and reraise a TypeError.\u001b[0m\u001b[1;33m\u001b[0m\u001b[1;33m\u001b[0m\u001b[0m\n\u001b[0;32m-> 1095\u001b[0;31m         \u001b[1;32mraise\u001b[0m \u001b[0mTypeError\u001b[0m\u001b[1;33m(\u001b[0m\u001b[1;34m'unsupported callable'\u001b[0m\u001b[1;33m)\u001b[0m \u001b[1;32mfrom\u001b[0m \u001b[0mex\u001b[0m\u001b[1;33m\u001b[0m\u001b[0m\n\u001b[0m\u001b[1;32m   1096\u001b[0m \u001b[1;33m\u001b[0m\u001b[0m\n\u001b[1;32m   1097\u001b[0m     \u001b[0margs\u001b[0m \u001b[1;33m=\u001b[0m \u001b[1;33m[\u001b[0m\u001b[1;33m]\u001b[0m\u001b[1;33m\u001b[0m\u001b[0m\n",
      "\u001b[0;31mTypeError\u001b[0m: unsupported callable"
     ]
    }
   ],
   "source": [
    "model.train(input_fn=x_train_energy, steps=1000)"
   ]
  },
  {
   "cell_type": "markdown",
   "metadata": {},
   "source": [
    "# Classification"
   ]
  },
  {
   "cell_type": "markdown",
   "metadata": {},
   "source": [
    "6 Attributes in total (1 goal field, 1 non-predictive, 4 predictive attributes) \n",
    "\n",
    "1. BI-RADS assessment: 1 to 5 (ordinal, non-predictive!) \n",
    "2. Age: patient's age in years (integer) \n",
    "3. Shape: mass shape: round=1 oval=2 lobular=3 irregular=4 (nominal) \n",
    "4. Margin: mass margin: circumscribed=1 microlobulated=2 obscured=3 ill-defined=4 spiculated=5 (nominal) \n",
    "5. Density: mass density high=1 iso=2 low=3 fat-containing=4 (ordinal) \n",
    "6. Severity: benign=0 or malignant=1 (binominal, goal field!) \n",
    "\n",
    "This one is pretty straightforward. Predict tumor malignancy. Bring in the data and separate into training and test."
   ]
  },
  {
   "cell_type": "code",
   "execution_count": 51,
   "metadata": {
    "collapsed": false
   },
   "outputs": [],
   "source": [
    "mammurl = 'https://archive.ics.uci.edu/ml/machine-learning-databases/mammographic-masses/mammographic_masses.data'\n",
    "mammdata = pd.read_csv(mammurl, header = None)\n",
    "#Get rid of the null values. It will just be a pain to deal with\n",
    "mammdata = mammdata.replace(['?'], [None]).dropna().values"
   ]
  },
  {
   "cell_type": "code",
   "execution_count": 52,
   "metadata": {
    "collapsed": false
   },
   "outputs": [],
   "source": [
    "x = mammdata[:, 0:5]\n",
    "y = mammdata[:, 5].astype('int')\n",
    "x_mamm_train, x_mamm_test, y_mamm_train, y_mamm_test = train_test_split(x, y, test_size=0.2, random_state=0)"
   ]
  },
  {
   "cell_type": "markdown",
   "metadata": {},
   "source": [
    "## sklearn"
   ]
  },
  {
   "cell_type": "code",
   "execution_count": 53,
   "metadata": {
    "collapsed": false
   },
   "outputs": [
    {
     "data": {
      "text/plain": [
       "LogisticRegression(C=1.0, class_weight=None, dual=False, fit_intercept=True,\n",
       "          intercept_scaling=1, max_iter=100, multi_class='ovr', n_jobs=1,\n",
       "          penalty='l2', random_state=None, solver='liblinear', tol=0.0001,\n",
       "          verbose=0, warm_start=False)"
      ]
     },
     "execution_count": 53,
     "metadata": {},
     "output_type": "execute_result"
    }
   ],
   "source": [
    "#Simple. Use logistic regression as a classifier\n",
    "logreg = linear_model.LogisticRegression()\n",
    "logreg.fit(x_mamm_train, y_mamm_train)"
   ]
  },
  {
   "cell_type": "code",
   "execution_count": 55,
   "metadata": {
    "collapsed": false
   },
   "outputs": [
    {
     "name": "stdout",
     "output_type": "stream",
     "text": [
      "Precision: 0.706\n",
      "Recall: 0.754\n",
      "F1: 0.728\n"
     ]
    }
   ],
   "source": [
    "#Show the scores. Not terrible. .728 F1 score. definitely better than a coin flip.\n",
    "kf = KFold(len(y_mamm_test), n_folds=5, shuffle=True, random_state=0)\n",
    "scores = cross_val_score(logreg, x_mamm_test, y_mamm_test, cv=kf, scoring=\"precision\")\n",
    "print( \"Precision: {0:.3f}\".format(np.mean(scores)))\n",
    "scores = cross_val_score(logreg, x_mamm_test, y_mamm_test, cv=kf, scoring=\"recall\")\n",
    "print( \"Recall: {0:.3f}\".format(np.mean(scores)))\n",
    "scores = cross_val_score(logreg, x_mamm_test, y_mamm_test, cv=kf, scoring=\"f1\")\n",
    "print( \"F1: {0:.3f}\".format(np.mean(scores)))"
   ]
  },
  {
   "cell_type": "markdown",
   "metadata": {},
   "source": [
    "## Tensorflow"
   ]
  },
  {
   "cell_type": "code",
   "execution_count": 60,
   "metadata": {
    "collapsed": false
   },
   "outputs": [],
   "source": [
    "#This code I basically used when making a single layer DNN. Let's use it again. I dont think there needs to be many nodes in\n",
    "#The hidden layer as there are only 5 inputs. I used a bigger number anyway because why not.\n",
    "reset_graph()\n",
    "\n",
    "#Set the layers size\n",
    "n_inputs = 5 # 5 inputs, 1 for each param\n",
    "n_hidden1 = 256 # Number of hidden layer nodes\n",
    "n_outputs = 2 # Number of outputs, benign or malignant\n",
    "\n",
    "# Set the place holders \n",
    "X = tf.placeholder(tf.float32, shape=(None, n_inputs), name=\"X\")\n",
    "y = tf.placeholder(tf.int64, shape=(None), name=\"y\")\n",
    "\n",
    "# function for creating neuron layers\n",
    "# Could be replaced with dense but will keep this for reference\n",
    "def neuron_layer(X, n_neurons, name, activation=None):\n",
    "    with tf.name_scope(name):\n",
    "        n_inputs = int(X.get_shape()[1])\n",
    "        stddev = 2 / np.sqrt(n_inputs)\n",
    "        init = tf.truncated_normal((n_inputs, n_neurons), stddev=stddev)\n",
    "        W = tf.Variable(init, name=\"kernel\")\n",
    "        b = tf.Variable(tf.ones([n_neurons]), name=\"bias\")\n",
    "        Z = tf.matmul(X, W) + b\n",
    "        if activation is not None:\n",
    "            return activation(Z)\n",
    "        else:\n",
    "            return Z\n",
    "        \n",
    "#Create our DNN using the function above or the dense function\n",
    "with tf.name_scope(\"dnn\"):\n",
    "    hidden1 = neuron_layer(X, n_hidden1, name=\"hidden1\",\n",
    "                           activation=tf.nn.relu)\n",
    "    logits = neuron_layer(hidden1, n_outputs, name=\"outputs\")\n",
    "    \n",
    "with tf.name_scope(\"loss\"):\n",
    "    xentropy = tf.nn.sparse_softmax_cross_entropy_with_logits(labels=y,\n",
    "                                                              logits=logits)\n",
    "    loss = tf.reduce_mean(xentropy, name=\"loss\")\n",
    "learning_rate = 0.01\n",
    "\n",
    "with tf.name_scope(\"train\"):\n",
    "    optimizer = tf.train.GradientDescentOptimizer(learning_rate)\n",
    "    training_op = optimizer.minimize(loss)\n",
    "with tf.name_scope(\"eval\"):\n",
    "    correct = tf.nn.in_top_k(logits, y, 1)\n",
    "    accuracy = tf.reduce_mean(tf.cast(correct, tf.float32))\n",
    "\n",
    "init = tf.global_variables_initializer()"
   ]
  },
  {
   "cell_type": "code",
   "execution_count": 61,
   "metadata": {
    "collapsed": false
   },
   "outputs": [
    {
     "name": "stdout",
     "output_type": "stream",
     "text": [
      "0 Train accuracy: 0.5165663 Test accuracy: 0.42168674\n",
      "1 Train accuracy: 0.55421686 Test accuracy: 0.4759036\n",
      "2 Train accuracy: 0.563253 Test accuracy: 0.48795182\n",
      "3 Train accuracy: 0.5933735 Test accuracy: 0.5180723\n",
      "4 Train accuracy: 0.57981926 Test accuracy: 0.5\n",
      "5 Train accuracy: 0.57228917 Test accuracy: 0.5\n",
      "6 Train accuracy: 0.57981926 Test accuracy: 0.5120482\n",
      "7 Train accuracy: 0.56626505 Test accuracy: 0.48795182\n",
      "8 Train accuracy: 0.561747 Test accuracy: 0.48192772\n",
      "9 Train accuracy: 0.55873495 Test accuracy: 0.48795182\n",
      "10 Train accuracy: 0.67469877 Test accuracy: 0.6084337\n",
      "11 Train accuracy: 0.5813253 Test accuracy: 0.5120482\n",
      "12 Train accuracy: 0.6295181 Test accuracy: 0.5421687\n",
      "13 Train accuracy: 0.5768072 Test accuracy: 0.5060241\n",
      "14 Train accuracy: 0.57530123 Test accuracy: 0.5180723\n",
      "15 Train accuracy: 0.58885545 Test accuracy: 0.5180723\n",
      "16 Train accuracy: 0.6987952 Test accuracy: 0.64457834\n",
      "17 Train accuracy: 0.563253 Test accuracy: 0.5\n",
      "18 Train accuracy: 0.77259034 Test accuracy: 0.7409639\n",
      "19 Train accuracy: 0.7078313 Test accuracy: 0.6385542\n",
      "20 Train accuracy: 0.7680723 Test accuracy: 0.74698794\n",
      "21 Train accuracy: 0.7756024 Test accuracy: 0.72289157\n",
      "22 Train accuracy: 0.7891566 Test accuracy: 0.76506025\n",
      "23 Train accuracy: 0.7921687 Test accuracy: 0.7409639\n",
      "24 Train accuracy: 0.7921687 Test accuracy: 0.77710843\n",
      "25 Train accuracy: 0.7846386 Test accuracy: 0.76506025\n",
      "26 Train accuracy: 0.8012048 Test accuracy: 0.76506025\n",
      "27 Train accuracy: 0.7921687 Test accuracy: 0.76506025\n",
      "28 Train accuracy: 0.7846386 Test accuracy: 0.78313255\n",
      "29 Train accuracy: 0.7409639 Test accuracy: 0.7108434\n",
      "30 Train accuracy: 0.7756024 Test accuracy: 0.7409639\n",
      "31 Train accuracy: 0.77861446 Test accuracy: 0.7409639\n",
      "32 Train accuracy: 0.7816265 Test accuracy: 0.73493975\n",
      "33 Train accuracy: 0.79668677 Test accuracy: 0.7409639\n",
      "34 Train accuracy: 0.78614455 Test accuracy: 0.7289157\n",
      "35 Train accuracy: 0.78313255 Test accuracy: 0.74698794\n",
      "36 Train accuracy: 0.5828313 Test accuracy: 0.5180723\n",
      "37 Train accuracy: 0.7921687 Test accuracy: 0.76506025\n",
      "38 Train accuracy: 0.7846386 Test accuracy: 0.7409639\n",
      "39 Train accuracy: 0.7921687 Test accuracy: 0.75301206\n"
     ]
    }
   ],
   "source": [
    "#Execution phase and output. Not a bad score. A slight increase from the sklearn but not much. More \n",
    "#learning and mroe hyper parameter tuning could probably inch up the score for us.\n",
    "n_epochs = 40\n",
    "with tf.Session() as sess:\n",
    "    init.run()\n",
    "    for epoch in range(n_epochs):\n",
    "        for i in range(len(x_mamm_train)):\n",
    "            sess.run(training_op, feed_dict={X: x_mamm_train[i: i + 1], y: y_mamm_train[i: i + 1]})\n",
    "            \n",
    "        acc_train = accuracy.eval(feed_dict={X: x_mamm_train, y: y_mamm_train})\n",
    "        acc_test = accuracy.eval(feed_dict={X: x_mamm_test, y: y_mamm_test})\n",
    "        print(epoch, \"Train accuracy:\", acc_train, \"Test accuracy:\", acc_test)"
   ]
  },
  {
   "cell_type": "code",
   "execution_count": null,
   "metadata": {
    "collapsed": true
   },
   "outputs": [],
   "source": []
  }
 ],
 "metadata": {
  "kernelspec": {
   "display_name": "Python 3",
   "language": "python",
   "name": "python3"
  },
  "language_info": {
   "codemirror_mode": {
    "name": "ipython",
    "version": 3
   },
   "file_extension": ".py",
   "mimetype": "text/x-python",
   "name": "python",
   "nbconvert_exporter": "python",
   "pygments_lexer": "ipython3",
   "version": "3.6.0"
  }
 },
 "nbformat": 4,
 "nbformat_minor": 2
}
